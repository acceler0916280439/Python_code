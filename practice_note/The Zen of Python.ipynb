{
 "cells": [
  {
   "cell_type": "markdown",
   "metadata": {},
   "source": [
    "# The Zen of Python"
   ]
  },
  {
   "cell_type": "code",
   "execution_count": 1,
   "metadata": {
    "scrolled": false
   },
   "outputs": [
    {
     "name": "stdout",
     "output_type": "stream",
     "text": [
      "The Zen of Python, by Tim Peters\n",
      "\n",
      "Beautiful is better than ugly.\n",
      "Explicit is better than implicit.\n",
      "Simple is better than complex.\n",
      "Complex is better than complicated.\n",
      "Flat is better than nested.\n",
      "Sparse is better than dense.\n",
      "Readability counts.\n",
      "Special cases aren't special enough to break the rules.\n",
      "Although practicality beats purity.\n",
      "Errors should never pass silently.\n",
      "Unless explicitly silenced.\n",
      "In the face of ambiguity, refuse the temptation to guess.\n",
      "There should be one-- and preferably only one --obvious way to do it.\n",
      "Although that way may not be obvious at first unless you're Dutch.\n",
      "Now is better than never.\n",
      "Although never is often better than *right* now.\n",
      "If the implementation is hard to explain, it's a bad idea.\n",
      "If the implementation is easy to explain, it may be a good idea.\n",
      "Namespaces are one honking great idea -- let's do more of those!\n",
      "\n",
      "Python的禪意  中文版:\n",
      "\n",
      "美麗優於醜陋，明講好過暗諭。\n",
      "\n",
      "簡潔者為上，複雜者次之，繁澀者為下。\n",
      "\n",
      "平舖善於層疊，勻散勝過稠密；以致輕鬆易讀。\n",
      "\n",
      "特例難免但不可打破原則，務求純淨卻不可不切實際。\n",
      "\n",
      "斷勿使錯誤靜靜流逝，除非有意如此。\n",
      "\n",
      "在模擬兩可之間，拒絕猜測的誘惑。\n",
      "\n",
      "總會有一種明確的寫法，最好也只有一種，\n",
      "\n",
      "但或須細想方可得。\n",
      "\n",
      "凡事雖應三思後行，但坐而言不如起而行。\n",
      "\n",
      "難以解釋的實作方式，必定是壞方法。\n",
      "\n",
      "容易解釋的實作方式，可能是好主意。\n",
      "\n",
      "命名空間讚，吾人多實用。\n"
     ]
    }
   ],
   "source": [
    "import this\n",
    "\n",
    "print('''\\nPython的禪意  中文版:\\n\n",
    "美麗優於醜陋，明講好過暗諭。\\n\n",
    "簡潔者為上，複雜者次之，繁澀者為下。\\n\n",
    "平舖善於層疊，勻散勝過稠密；以致輕鬆易讀。\\n\n",
    "特例難免但不可打破原則，務求純淨卻不可不切實際。\\n\n",
    "斷勿使錯誤靜靜流逝，除非有意如此。\\n\n",
    "在模擬兩可之間，拒絕猜測的誘惑。\\n\n",
    "總會有一種明確的寫法，最好也只有一種，\\n\n",
    "但或須細想方可得。\\n\n",
    "凡事雖應三思後行，但坐而言不如起而行。\\n\n",
    "難以解釋的實作方式，必定是壞方法。\\n\n",
    "容易解釋的實作方式，可能是好主意。\\n\n",
    "命名空間讚，吾人多實用。''')"
   ]
  },
  {
   "cell_type": "markdown",
   "metadata": {},
   "source": [
    "# 接收輸入數據的凾式 - inpupt()"
   ]
  },
  {
   "cell_type": "code",
   "execution_count": 4,
   "metadata": {},
   "outputs": [
    {
     "name": "stdout",
     "output_type": "stream",
     "text": [
      "your account:123\n",
      "your password:654\n",
      "The account doesn't exit.\n",
      "your account:456\n",
      "your password:456\n",
      "The account doesn't exit.\n",
      "your account:123\n",
      "your password:456\n",
      "The account doesn't exit.\n",
      "your account:456\n",
      "your password:321\n",
      "The account doesn't exit.\n",
      "your account:acceler0916280439\n",
      "your password:acceler861213\n",
      "Welcome home, Dear.\n"
     ]
    }
   ],
   "source": [
    "x = 0\n",
    "while True:\n",
    "    input_acc = input('your account:')\n",
    "    input_pas = input('your password:')\n",
    "    if input_acc != 'acceler0916280439':\n",
    "        print(\"The account doesn't exit.\")\n",
    "        x += 1\n",
    "    elif input_pas != 'acceler861213':\n",
    "        print('The password is wrong.')\n",
    "        x += 1\n",
    "    else:\n",
    "        print('Welcome home, Dear.')\n",
    "        x = 0\n",
    "        break\n",
    "    if x == 5:\n",
    "        print('錯誤次數過多, 請稍後再試!')\n",
    "        break"
   ]
  },
  {
   "cell_type": "markdown",
   "metadata": {},
   "source": [
    "# 多序列迭代凾式 - zip()"
   ]
  },
  {
   "cell_type": "code",
   "execution_count": 1,
   "metadata": {},
   "outputs": [
    {
     "name": "stdout",
     "output_type": "stream",
     "text": [
      "I want to have apple with water .\n",
      "I want to have banana with soda .\n",
      "I want to have pineapple with juice .\n"
     ]
    }
   ],
   "source": [
    "fruits = ['apple', 'banana', 'pineapple']\n",
    "drinks = ['water', 'soda', 'juice']\n",
    "\n",
    "for fruit, drink in zip(fruits, drinks):\n",
    "    print('I want to have', fruit, 'with', drink, '.')"
   ]
  },
  {
   "cell_type": "markdown",
   "metadata": {},
   "source": [
    "# 數字序列迭代函式 - range()"
   ]
  },
  {
   "cell_type": "code",
   "execution_count": 9,
   "metadata": {},
   "outputs": [
    {
     "name": "stdout",
     "output_type": "stream",
     "text": [
      "第1次迭代的值: 0\n",
      "第2次迭代的值: 1\n",
      "第3次迭代的值: 2\n",
      "第4次迭代的值: 3\n",
      "第5次迭代的值: 4\n",
      "第6次迭代的值: 5\n",
      "lista: [0, 1, 2, 3, 4, 5] \n",
      "listb: [0, 1, 2, 3, 4, 5]\n"
     ]
    }
   ],
   "source": [
    "lista = []\n",
    "for x in range(0, 6, 1): #自0開始, 5結束, 間隔1\n",
    "    print('第%s次迭代的值:'%(x+1),x)\n",
    "    lista.append(x)\n",
    "    \n",
    "listb = list(range(6)) #範圍:0~5, 默認起始值:0、間隔:1\n",
    "print('lista:',lista,'\\nlistb:', listb)"
   ]
  },
  {
   "cell_type": "markdown",
   "metadata": {},
   "source": [
    "# 生成式"
   ]
  },
  {
   "cell_type": "code",
   "execution_count": 24,
   "metadata": {},
   "outputs": [
    {
     "name": "stdout",
     "output_type": "stream",
     "text": [
      "串列生成式: [1, 3, 5, 7, 9]\n",
      "字典生成式: {1: 'H', 2: 'e', 3: 'l', 4: 'l', 5: 'o'}\n",
      "集合生成式: {2, 4, 6, 8, 10}\n",
      "以產生器生成的串列: [100, 200]\n",
      "空串列: []\n"
     ]
    }
   ],
   "source": [
    "lista = [code for code in range(1, 10) if code%2 == 1] #串列生成式, 形成1~9範圍內的奇數串列。\n",
    "#第二個'code':指'range'迭代後存放值的參數;\n",
    "#第三個'code':用以判斷迭代的'code'(第二個'code')是否為奇數;\n",
    "#第一個'code':指會被填入指定串列(lista)當中的參數, 經過條件式判斷後被(第三個'code')賦予的值。\n",
    "\n",
    "vl = 'Hello'\n",
    "dicta = {kw:vl[kw-1] for kw in range(1, 6) if kw%1 == 0} #字典生成式, 同樣可以加入條件式。\n",
    "\n",
    "seta = {number for number in range(1, 11)  if number%2 == 0} #集合生成式, 同樣可以加入條件式。\n",
    "\n",
    "#Tuple型的資料無法以生成式來生成\n",
    "generator = (exp for exp in range(1, 201) if exp%100 == 0) #'產生器'生成式, 產生器是[一次性]的物件。\n",
    "pro_list = list(generator) #此為[首次]將產生器(producer)的值進行賦予。\n",
    "false_list = list(generator) #因為已經將產生器(producer)的值賦予給[pro_list], 所以在這之後賦予的任何物件都為[空]。\n",
    "\n",
    "print('串列生成式:', lista)\n",
    "print('字典生成式:', dicta)\n",
    "print('集合生成式:', seta)\n",
    "print('以產生器生成的串列:', pro_list)\n",
    "print('空串列:', false_list)"
   ]
  },
  {
   "cell_type": "markdown",
   "metadata": {},
   "source": [
    "# 函式的建立 - def"
   ]
  },
  {
   "cell_type": "code",
   "execution_count": 26,
   "metadata": {},
   "outputs": [
    {
     "name": "stdout",
     "output_type": "stream",
     "text": [
      "(1)\n",
      "1\n",
      "2\n",
      "3\n",
      "4\n",
      "5\n",
      "6\n",
      "7\n",
      "8\n",
      "9\n",
      "10\n",
      "Input the argument of the function:20\n",
      "(2) [1, 2, 3, 4, 5, 6, 7, 8, 9, 10, 11, 12, 13, 14, 15, 16, 17, 18, 19, 20]\n",
      "(3) 20 + 50 = 70\n",
      "(4) -10\n",
      "(5) ('Counting', 1, 2, 3, 'Hello Guys!')\n"
     ]
    }
   ],
   "source": [
    "def DoNothing(): #此凾式什麼都不會做, 被執行後會直接跳到下一行code\n",
    "    pass\n",
    "\n",
    "def Count(): #此凾式為計數器\n",
    "    print('(1)')\n",
    "    for i in range(1, 11):\n",
    "        print(i)\n",
    "\n",
    "def CountList(number): #此凾式為整數串列生成器\n",
    "    lista = [count for count in range(1, number+1)]\n",
    "    print('(2)', lista)\n",
    "    \n",
    "def add(x, y):\n",
    "    result = x + y\n",
    "    num1 = x\n",
    "    num2 = y\n",
    "    print('(3)', num1, '+', num2,'=', result)\n",
    "    \n",
    "def subtract(x, y): #此凾式為減法器\n",
    "    result = x - y\n",
    "    print('(4)', result)\n",
    "    return result #將result作為此凾式的輸出(Output)\n",
    "\n",
    "def anything(*ThisIsTheInput): #此凾式會將所有輸入值群組化, 化為一個tuple\n",
    "    print('(5)', ThisIsTheInput)\n",
    "\n",
    "DoNothing() #不會做任何動作\n",
    "Count() #從1計數到10\n",
    "\n",
    "num = int(input('Input the argument of the function:')) #因為迭代需要的值為整數, 因此必須將input後的值利用int()轉變為整數\n",
    "CountList(num) #生成一個包含整數1至num的串列\n",
    "\n",
    "add(20, 50)\n",
    "\n",
    "subtract(y = 20, x = 10) #此種引數指定方式稱為[關鍵字引數], 是指直接將值指定給函式當初設定的引數名稱, 此種方式無須按照順序輸入引數\n",
    "\n",
    "anything('Counting', 1, 2, 3, 'Hello Guys!') #所有引數都會被輸出"
   ]
  },
  {
   "cell_type": "markdown",
   "metadata": {},
   "source": [
    "# 文件字串(在自定義的凾式中加入說明)"
   ]
  },
  {
   "cell_type": "code",
   "execution_count": 10,
   "metadata": {},
   "outputs": [
    {
     "data": {
      "text/plain": [
       "123"
      ]
     },
     "execution_count": 10,
     "metadata": {},
     "output_type": "execute_result"
    }
   ],
   "source": [
    "def echo(anything):\n",
    "    '''隨意說明些啥都行~\n",
    "       1.xxx\n",
    "       2.yyy\n",
    "       3.zzz\n",
    "           隨便寫, 只是方便他人閱讀code~'''\n",
    "    return anything\n",
    "\n",
    "echo(123)"
   ]
  },
  {
   "cell_type": "markdown",
   "metadata": {},
   "source": [
    "# 凾式有無return的差異"
   ]
  },
  {
   "cell_type": "code",
   "execution_count": 25,
   "metadata": {},
   "outputs": [
    {
     "name": "stdout",
     "output_type": "stream",
     "text": [
      "l1: 123 \n",
      "l2: None\n"
     ]
    }
   ],
   "source": [
    "def test1(x):\n",
    "    return x\n",
    "\n",
    "def test2(x):\n",
    "    pass\n",
    "\n",
    "print('l1:', test1(123), '\\nl2:', test2(321)) #當一個凾式被呼叫後沒有值被回傳, 則會被視為None"
   ]
  },
  {
   "cell_type": "markdown",
   "metadata": {},
   "source": [
    "# 將凾式作為另一個凾式的引數"
   ]
  },
  {
   "cell_type": "code",
   "execution_count": 42,
   "metadata": {},
   "outputs": [
    {
     "name": "stdout",
     "output_type": "stream",
     "text": [
      "Input the number:2\n",
      "2\n",
      "4\n",
      "8\n"
     ]
    }
   ],
   "source": [
    "def f1(number):\n",
    "    return number\n",
    "\n",
    "def f2(x, number):\n",
    "    return x(number)*2\n",
    "\n",
    "def f3(x, y, number):\n",
    "    return x(y, y(number))*2\n",
    "\n",
    "num = int(input('Input the number:'))\n",
    "print(f1(num))\n",
    "print(f2(f1, num))\n",
    "print(f3(f2, f1, num))"
   ]
  },
  {
   "cell_type": "markdown",
   "metadata": {},
   "source": [
    "# 遞迴凾式 - Recursive Function"
   ]
  },
  {
   "cell_type": "code",
   "execution_count": 9,
   "metadata": {
    "scrolled": true
   },
   "outputs": [
    {
     "name": "stdout",
     "output_type": "stream",
     "text": [
      "120\n",
      "362880\n"
     ]
    }
   ],
   "source": [
    "#重複呼叫自身, 直至抵達設定的中斷點\n",
    "def countdown(x): #此凾式終止點為:引數x被重複遞減至0為止\n",
    "    if x == 0:\n",
    "        return 1\n",
    "    else:\n",
    "        return x*countdown(x-1) # x!的計算\n",
    "    \n",
    "def countup(x):\n",
    "    if x == 10:\n",
    "        return 1\n",
    "    else:\n",
    "        return x*countup(x+1)\n",
    "\n",
    "print(countdown(5)) # 5*4*3*2*(1) <<< 當(x-1 == 0), 便會直接回傳1, 因而導致遞迴終止 \n",
    "print(countup(1))"
   ]
  },
  {
   "cell_type": "markdown",
   "metadata": {},
   "source": [
    "# 內部函式closure"
   ]
  },
  {
   "cell_type": "code",
   "execution_count": 20,
   "metadata": {},
   "outputs": [
    {
     "name": "stdout",
     "output_type": "stream",
     "text": [
      "What is your sexuality(male/female):female\n",
      "Say an adjective about HONG ZHIH:nice\n",
      "def1. 20\n",
      "def2. I have a nice brother.\n"
     ]
    }
   ],
   "source": [
    "#這是一種名為closure的凾式應用法, 用於希望在一個凾式內, 執行不同重複的動作\n",
    "def outer(a, b):\n",
    "    def inner(c, d):\n",
    "        return c*d\n",
    "    return inner(a, b) #將引數(a, b)作為inner的(c, d)\n",
    "\n",
    "def Say(Sentance):\n",
    "    def me(what):\n",
    "        return 'I am a %s guy.'%what\n",
    "    def sister(what):\n",
    "        return 'I have a %s brother.'%what\n",
    "    if sex == 'male':\n",
    "        return me(Sentance)\n",
    "    elif sex == 'female':\n",
    "        return sister(Sentance)\n",
    "\n",
    "sex = input('What is your sexuality(male/female):')\n",
    "about = input('Say an adjective about HONG ZHIH:')\n",
    "\n",
    "print('def1.', outer(4, 5))\n",
    "print('def2.', Say(about))"
   ]
  },
  {
   "cell_type": "markdown",
   "metadata": {},
   "source": [
    "# 匿名函式 - lambda"
   ]
  },
  {
   "cell_type": "code",
   "execution_count": 26,
   "metadata": {},
   "outputs": [
    {
     "name": "stdout",
     "output_type": "stream",
     "text": [
      "Meow!!\n",
      "Mew!!\n",
      "Mow!!\n",
      "Meowwww!!\n"
     ]
    }
   ],
   "source": [
    "#lambda是一個陳述式\n",
    "\n",
    "def my_cat(sounds, func1):\n",
    "    for sound in sounds:\n",
    "        print(func1(sound))\n",
    "        \n",
    "kitty = ['meow', 'mew', 'mow', 'meowwww']\n",
    "\n",
    "my_cat(kitty, lambda cat: cat.capitalize()+'!!') \n",
    "#lamd後的[cat]為此匿名凾式的引數, 此函式用途為:將每個單字的字首大寫 & 在每個貓叫聲後加上「!!」\n",
    "#而lambda的引數位置(cat), 放入的就是(kitty)這個字串串列\n",
    "#lambda cat: cat.capitalize()+'!!' <<< 此匿名函式的作用等同於:\n",
    "# def xxx(cat):\n",
    "#     return cat.capitalize()+'!!'\n",
    "#ps:lambda作為python的陳述式無法被另作他用!!!!!!"
   ]
  },
  {
   "cell_type": "markdown",
   "metadata": {},
   "source": [
    "# 全域(global)&區域(local)命名空間(name space)"
   ]
  },
  {
   "cell_type": "code",
   "execution_count": 25,
   "metadata": {
    "scrolled": true
   },
   "outputs": [
    {
     "name": "stdout",
     "output_type": "stream",
     "text": [
      "local: {'animal': 'dog'}\n",
      "global: {'__name__': '__main__', '__doc__': 'Automatically created module for IPython interactive environment', '__package__': None, '__loader__': None, '__spec__': None, '__builtin__': <module 'builtins' (built-in)>, '__builtins__': <module 'builtins' (built-in)>, '_ih': ['', 'def countdown(x): #此凾式終止點為:引數x被重複遞減至0為止\\n    if x == 0:\\n        return 1\\n    else:\\n        return x*countdown(x-1) # x!的計算\\n    \\ndef countup(x):\\n    if x == 100:\\n        return 1\\n    else:\\n        return x*countup(x+1)\\n\\ncountdown(5) # 5*4*3*2*(1) <<< 當(x-1 == 0), 便會直接回傳1, 因而導致遞迴終止 \\ncountup(10)', 'def countdown(x): #此凾式終止點為:引數x被重複遞減至0為止\\n    if x == 0:\\n        return 1\\n    else:\\n        return x*countdown(x-1) # x!的計算\\n    \\ndef countup(x):\\n    if x == 100:\\n        return 1\\n    else:\\n        return x*countup(x+1)\\n\\nprint(countdown(5)) # 5*4*3*2*(1) <<< 當(x-1 == 0), 便會直接回傳1, 因而導致遞迴終止 \\nprint(countup(10))', 'def countdown(x): #此凾式終止點為:引數x被重複遞減至0為止\\n    if x == 0:\\n        return 1\\n    else:\\n        return x*countdown(x-1) # x!的計算\\n    \\ndef countup(x):\\n    if x == 10:\\n        return 1\\n    else:\\n        return x*countup(x+1)\\n\\nprint(countdown(5)) # 5*4*3*2*(1) <<< 當(x-1 == 0), 便會直接回傳1, 因而導致遞迴終止 \\nprint(countup(1))', 'def outer(a, b):\\n    def inner(c, d):\\n        return c*d\\n    return inner(a, b) #將引數(a, b)作為inner的(c, d)\\n\\nprint(outer(4, 5))', 'def outer(a, b):\\n    def inner(c, d):\\n        return c*d\\n    return inner(a, b) #將引數(a, b)作為inner的(c, d)\\n\\nprint(inner(4, 5))', 'def outer(a, b):\\n    def inner(c, d):\\n        return c*d\\n    return inner(a, b) #將引數(a, b)作為inner的(c, d)\\n\\nprint(outer(4, 5))', 'def outer(a, b):\\n    def inner(c, d):\\n        return c*d\\n    return inner(a, b)*a #將引數(a, b)作為inner的(c, d)\\n\\nprint(outer(4, 5))', 'def outer(a, b):\\n    def inner(c, d):\\n        return c*d\\n    return inner(a, b) #將引數(a, b)作為inner的(c, d)\\n\\nprint(outer(4, 5))', '#重複呼叫自身, 直至抵達設定的中斷點\\ndef countdown(x): #此凾式終止點為:引數x被重複遞減至0為止\\n    if x == 0:\\n        return 1\\n    else:\\n        return x*countdown(x-1) # x!的計算\\n    \\ndef countup(x):\\n    if x == 10:\\n        return 1\\n    else:\\n        return x*countup(x+1)\\n\\nprint(countdown(5)) # 5*4*3*2*(1) <<< 當(x-1 == 0), 便會直接回傳1, 因而導致遞迴終止 \\nprint(countup(1))', \"def outer(a, b):\\n    def inner(c, d):\\n        return c*d\\n    return inner(a, b) #將引數(a, b)作為inner的(c, d)\\n\\ndef Say(Sentance):\\n    def me(what):\\n        return 'I am a %s guy.'%what\\n    return me(Sentance)\\n\\nprint(outer(4, 5))\\nprint('cute')\", \"def outer(a, b):\\n    def inner(c, d):\\n        return c*d\\n    return inner(a, b) #將引數(a, b)作為inner的(c, d)\\n\\ndef Say(Sentance):\\n    def me(what):\\n        return 'I am a %s guy.'%what\\n    return me(Sentance)\\n\\nprint(outer(4, 5))\\nprint(Say('cute'))\", \"def outer(a, b):\\n    def inner(c, d):\\n        return c*d\\n    return inner(a, b) #將引數(a, b)作為inner的(c, d)\\n\\ndef Say(Sentance):\\n    def me(what):\\n        return 'I am a %s guy.'%what\\n    return me(Sentance)\\n\\nprint('ex1.', outer(4, 5))\\nprint('ex2.', Say('cute'))\", \"def outer(a, b):\\n    def inner(c, d):\\n        return c*d\\n    return inner(a, b) #將引數(a, b)作為inner的(c, d)\\n\\ndef Say(Sentance):\\n    def me(what):\\n        return 'I am a %s guy.'%what\\n    return me(Sentance)\\n\\nprint('def1.', outer(4, 5))\\nprint('def2.', Say('cute'))\", \"#用於希望在一個凾式內, 執行不同重複的動作\\ndef outer(a, b):\\n    def inner(c, d):\\n        return c*d\\n    return inner(a, b) #將引數(a, b)作為inner的(c, d)\\n\\ndef Say(Sentance):\\n    def me(what):\\n        return 'I am a %s guy.'%what\\n    def sister(what):\\n        return 'I love my %s brother.'%what\\n    return sister(Sentance)\\n\\nprint('def1.', outer(4, 5))\\nprint('def2.', Say('cute'))\", \"#用於希望在一個凾式內, 執行不同重複的動作\\ndef outer(a, b):\\n    def inner(c, d):\\n        return c*d\\n    return inner(a, b) #將引數(a, b)作為inner的(c, d)\\n\\ndef Say(Sentance):\\n    def me(what):\\n        return 'I am a %s guy.'%what\\n    def sister(what):\\n        return 'I love my %s brother.'%what\\n    if sex = male:\\n        return me(Sentance)\\n    elif sex = female:\\n        return sister(Sentance)\\n\\nsex = input('What is your sexuality(male/female):')\\nprint('def1.', outer(4, 5))\\nprint('def2.', Say('cute'))\", \"#用於希望在一個凾式內, 執行不同重複的動作\\ndef outer(a, b):\\n    def inner(c, d):\\n        return c*d\\n    return inner(a, b) #將引數(a, b)作為inner的(c, d)\\n\\ndef Say(Sentance):\\n    def me(what):\\n        return 'I am a %s guy.'%what\\n    def sister(what):\\n        return 'I love my %s brother.'%what\\n    if sex == male:\\n        return me(Sentance)\\n    elif sex == female:\\n        return sister(Sentance)\\n\\nsex = input('What is your sexuality(male/female):')\\nprint('def1.', outer(4, 5))\\nprint('def2.', Say('cute'))\", \"#用於希望在一個凾式內, 執行不同重複的動作\\ndef outer(a, b):\\n    def inner(c, d):\\n        return c*d\\n    return inner(a, b) #將引數(a, b)作為inner的(c, d)\\n\\ndef Say(Sentance):\\n    def me(what):\\n        return 'I am a %s guy.'%what\\n    def sister(what):\\n        return 'I love my %s brother.'%what\\n    if sex == 'male':\\n        return me(Sentance)\\n    elif sex == 'female':\\n        return sister(Sentance)\\n\\nsex = input('What is your sexuality(male/female):')\\nprint('def1.', outer(4, 5))\\nprint('def2.', Say('cute'))\", \"#用於希望在一個凾式內, 執行不同重複的動作\\ndef outer(a, b):\\n    def inner(c, d):\\n        return c*d\\n    return inner(a, b) #將引數(a, b)作為inner的(c, d)\\n\\ndef Say(Sentance):\\n    def me(what):\\n        return 'I am a %s guy.'%what\\n    def sister(what):\\n        return 'I love my %s brother.'%what\\n    if sex == 'male':\\n        return me(Sentance)\\n    elif sex == 'female':\\n        return sister(Sentance)\\n\\nsex = input('What is your sexuality(male/female):')\\nabout = input('Say an adjective about HONG ZHIH:')\\n\\nprint('def1.', outer(4, 5))\\nprint('def2.', Say(about))\", \"#這是一種名為closure的凾式應用法, 用於希望在一個凾式內, 執行不同重複的動作\\ndef outer(a, b):\\n    def inner(c, d):\\n        return c*d\\n    return inner(a, b) #將引數(a, b)作為inner的(c, d)\\n\\ndef Say(Sentance):\\n    def me(what):\\n        return 'I am a %s guy.'%what\\n    def sister(what):\\n        return 'I love my %s brother.'%what\\n    if sex == 'male':\\n        return me(Sentance)\\n    elif sex == 'female':\\n        return sister(Sentance)\\n\\nsex = input('What is your sexuality(male/female):')\\nabout = input('Say an adjective about HONG ZHIH:')\\n\\nprint('def1.', outer(4, 5))\\nprint('def2.', Say(about))\", \"#這是一種名為closure的凾式應用法, 用於希望在一個凾式內, 執行不同重複的動作\\ndef outer(a, b):\\n    def inner(c, d):\\n        return c*d\\n    return inner(a, b) #將引數(a, b)作為inner的(c, d)\\n\\ndef Say(Sentance):\\n    def me(what):\\n        return 'I am a %s guy.'%what\\n    def sister(what):\\n        return 'I have a %s brother.'%what\\n    if sex == 'male':\\n        return me(Sentance)\\n    elif sex == 'female':\\n        return sister(Sentance)\\n\\nsex = input('What is your sexuality(male/female):')\\nabout = input('Say an adjective about HONG ZHIH:')\\n\\nprint('def1.', outer(4, 5))\\nprint('def2.', Say(about))\", \"#lambda是一個陳述式\\n\\ndef my_cat(sounds, func1):\\n    for sound in sounds:\\n        print(func1(sound))\\n        \\nkitty = ['meow', 'mew', 'mow', 'meowwww']\\n\\nmy_cat(kitty, lambda sound: sound.capitalize()+'!!')\", \"#lambda是一個陳述式\\n\\ndef my_cat(sounds, func1):\\n    for sound in sounds:\\n        print(func1(sound))\\n        \\nkitty = ['meow', 'mew', 'mow', 'meowwww']\\n\\nmy_cat(kitty, lambda cat: cat.capitalize()+'!!') #lamd後的[sound]為此匿名凾式的引數\", \"#lambda是一個陳述式\\n\\ndef my_cat(sounds, func1):\\n    for sound in sounds:\\n        print(func1(sound))\\n        \\nkitty = ['meow', 'mew', 'mow', 'meowwww']\\n\\nmy_cat(kitty, lambda cat: cat.capitalize()+'!!') \\n#lamd後的[cat]為此匿名凾式的引數, 此函式用途為:將每個單字的字首大寫 & 在每個貓叫聲後加上「!!」\\n#而lambda的引數位置(cat), 放入的就是(kitty)這個字串串列\\n#此匿名函式的作用等同於:\\n# def lambda(cat):\\n#     return cat.capitalize()+'!!'\\n#ps:lambda作為python的保留字無法被另作他用!!!!!!\", \"lista = [code for code in range(1, 10) if code%2 == 1] #串列生成式, 形成1~9範圍內的奇數串列。\\n#第二個'code':指'range'迭代後存放值的參數;\\n#第三個'code':用以判斷迭代的'code'(第二個'code')是否為奇數;\\n#第一個'code':指會被填入指定串列(lista)當中的參數, 經過條件式判斷後被(第三個'code')賦予的值。\\n\\nvl = 'Hello'\\ndicta = {kw:vl[kw-1] for kw in range(1, 6) if kw%1 == 0} #字典生成式, 同樣可以加入條件式。\\n\\nseta = {number for number in range(1, 11)  if number%2 == 0} #集合生成式, 同樣可以加入條件式。\\n\\n#Tuple型的資料無法以生成式來生成\\ngenerator = (exp for exp in range(1, 201) if exp%100 == 0) #'產生器'生成式, 產生器是[一次性]的物件。\\npro_list = list(generator) #此為[首次]將產生器(producer)的值進行賦予。\\nfalse_list = list(generator) #因為已經將產生器(producer)的值賦予給[pro_list], 所以在這之後賦予的任何物件都為[空]。\\n\\nprint('串列生成式:', lista)\\nprint('字典生成式:', dicta)\\nprint('集合生成式:', seta)\\nprint('以產生器生成的串列:', pro_list)\\nprint('空串列:', false_list)\", \"def localVariable():\\n    animal = 'dog'\\n    print('local:', locals())\\n\\nanimal = 'cat'\\n\\nlocalVariable()\\nprint('global:', globals())\"], '_oh': {1: 2571820310955251121078572499345973889184192247144555265338209983884964726444827921322240519625124511856638500904630284343341744128000000000000000000000}, '_dh': ['C:\\\\Users\\\\accel\\\\ipython_notebook_codes\\\\Python_Code'], 'In': ['', 'def countdown(x): #此凾式終止點為:引數x被重複遞減至0為止\\n    if x == 0:\\n        return 1\\n    else:\\n        return x*countdown(x-1) # x!的計算\\n    \\ndef countup(x):\\n    if x == 100:\\n        return 1\\n    else:\\n        return x*countup(x+1)\\n\\ncountdown(5) # 5*4*3*2*(1) <<< 當(x-1 == 0), 便會直接回傳1, 因而導致遞迴終止 \\ncountup(10)', 'def countdown(x): #此凾式終止點為:引數x被重複遞減至0為止\\n    if x == 0:\\n        return 1\\n    else:\\n        return x*countdown(x-1) # x!的計算\\n    \\ndef countup(x):\\n    if x == 100:\\n        return 1\\n    else:\\n        return x*countup(x+1)\\n\\nprint(countdown(5)) # 5*4*3*2*(1) <<< 當(x-1 == 0), 便會直接回傳1, 因而導致遞迴終止 \\nprint(countup(10))', 'def countdown(x): #此凾式終止點為:引數x被重複遞減至0為止\\n    if x == 0:\\n        return 1\\n    else:\\n        return x*countdown(x-1) # x!的計算\\n    \\ndef countup(x):\\n    if x == 10:\\n        return 1\\n    else:\\n        return x*countup(x+1)\\n\\nprint(countdown(5)) # 5*4*3*2*(1) <<< 當(x-1 == 0), 便會直接回傳1, 因而導致遞迴終止 \\nprint(countup(1))', 'def outer(a, b):\\n    def inner(c, d):\\n        return c*d\\n    return inner(a, b) #將引數(a, b)作為inner的(c, d)\\n\\nprint(outer(4, 5))', 'def outer(a, b):\\n    def inner(c, d):\\n        return c*d\\n    return inner(a, b) #將引數(a, b)作為inner的(c, d)\\n\\nprint(inner(4, 5))', 'def outer(a, b):\\n    def inner(c, d):\\n        return c*d\\n    return inner(a, b) #將引數(a, b)作為inner的(c, d)\\n\\nprint(outer(4, 5))', 'def outer(a, b):\\n    def inner(c, d):\\n        return c*d\\n    return inner(a, b)*a #將引數(a, b)作為inner的(c, d)\\n\\nprint(outer(4, 5))', 'def outer(a, b):\\n    def inner(c, d):\\n        return c*d\\n    return inner(a, b) #將引數(a, b)作為inner的(c, d)\\n\\nprint(outer(4, 5))', '#重複呼叫自身, 直至抵達設定的中斷點\\ndef countdown(x): #此凾式終止點為:引數x被重複遞減至0為止\\n    if x == 0:\\n        return 1\\n    else:\\n        return x*countdown(x-1) # x!的計算\\n    \\ndef countup(x):\\n    if x == 10:\\n        return 1\\n    else:\\n        return x*countup(x+1)\\n\\nprint(countdown(5)) # 5*4*3*2*(1) <<< 當(x-1 == 0), 便會直接回傳1, 因而導致遞迴終止 \\nprint(countup(1))', \"def outer(a, b):\\n    def inner(c, d):\\n        return c*d\\n    return inner(a, b) #將引數(a, b)作為inner的(c, d)\\n\\ndef Say(Sentance):\\n    def me(what):\\n        return 'I am a %s guy.'%what\\n    return me(Sentance)\\n\\nprint(outer(4, 5))\\nprint('cute')\", \"def outer(a, b):\\n    def inner(c, d):\\n        return c*d\\n    return inner(a, b) #將引數(a, b)作為inner的(c, d)\\n\\ndef Say(Sentance):\\n    def me(what):\\n        return 'I am a %s guy.'%what\\n    return me(Sentance)\\n\\nprint(outer(4, 5))\\nprint(Say('cute'))\", \"def outer(a, b):\\n    def inner(c, d):\\n        return c*d\\n    return inner(a, b) #將引數(a, b)作為inner的(c, d)\\n\\ndef Say(Sentance):\\n    def me(what):\\n        return 'I am a %s guy.'%what\\n    return me(Sentance)\\n\\nprint('ex1.', outer(4, 5))\\nprint('ex2.', Say('cute'))\", \"def outer(a, b):\\n    def inner(c, d):\\n        return c*d\\n    return inner(a, b) #將引數(a, b)作為inner的(c, d)\\n\\ndef Say(Sentance):\\n    def me(what):\\n        return 'I am a %s guy.'%what\\n    return me(Sentance)\\n\\nprint('def1.', outer(4, 5))\\nprint('def2.', Say('cute'))\", \"#用於希望在一個凾式內, 執行不同重複的動作\\ndef outer(a, b):\\n    def inner(c, d):\\n        return c*d\\n    return inner(a, b) #將引數(a, b)作為inner的(c, d)\\n\\ndef Say(Sentance):\\n    def me(what):\\n        return 'I am a %s guy.'%what\\n    def sister(what):\\n        return 'I love my %s brother.'%what\\n    return sister(Sentance)\\n\\nprint('def1.', outer(4, 5))\\nprint('def2.', Say('cute'))\", \"#用於希望在一個凾式內, 執行不同重複的動作\\ndef outer(a, b):\\n    def inner(c, d):\\n        return c*d\\n    return inner(a, b) #將引數(a, b)作為inner的(c, d)\\n\\ndef Say(Sentance):\\n    def me(what):\\n        return 'I am a %s guy.'%what\\n    def sister(what):\\n        return 'I love my %s brother.'%what\\n    if sex = male:\\n        return me(Sentance)\\n    elif sex = female:\\n        return sister(Sentance)\\n\\nsex = input('What is your sexuality(male/female):')\\nprint('def1.', outer(4, 5))\\nprint('def2.', Say('cute'))\", \"#用於希望在一個凾式內, 執行不同重複的動作\\ndef outer(a, b):\\n    def inner(c, d):\\n        return c*d\\n    return inner(a, b) #將引數(a, b)作為inner的(c, d)\\n\\ndef Say(Sentance):\\n    def me(what):\\n        return 'I am a %s guy.'%what\\n    def sister(what):\\n        return 'I love my %s brother.'%what\\n    if sex == male:\\n        return me(Sentance)\\n    elif sex == female:\\n        return sister(Sentance)\\n\\nsex = input('What is your sexuality(male/female):')\\nprint('def1.', outer(4, 5))\\nprint('def2.', Say('cute'))\", \"#用於希望在一個凾式內, 執行不同重複的動作\\ndef outer(a, b):\\n    def inner(c, d):\\n        return c*d\\n    return inner(a, b) #將引數(a, b)作為inner的(c, d)\\n\\ndef Say(Sentance):\\n    def me(what):\\n        return 'I am a %s guy.'%what\\n    def sister(what):\\n        return 'I love my %s brother.'%what\\n    if sex == 'male':\\n        return me(Sentance)\\n    elif sex == 'female':\\n        return sister(Sentance)\\n\\nsex = input('What is your sexuality(male/female):')\\nprint('def1.', outer(4, 5))\\nprint('def2.', Say('cute'))\", \"#用於希望在一個凾式內, 執行不同重複的動作\\ndef outer(a, b):\\n    def inner(c, d):\\n        return c*d\\n    return inner(a, b) #將引數(a, b)作為inner的(c, d)\\n\\ndef Say(Sentance):\\n    def me(what):\\n        return 'I am a %s guy.'%what\\n    def sister(what):\\n        return 'I love my %s brother.'%what\\n    if sex == 'male':\\n        return me(Sentance)\\n    elif sex == 'female':\\n        return sister(Sentance)\\n\\nsex = input('What is your sexuality(male/female):')\\nabout = input('Say an adjective about HONG ZHIH:')\\n\\nprint('def1.', outer(4, 5))\\nprint('def2.', Say(about))\", \"#這是一種名為closure的凾式應用法, 用於希望在一個凾式內, 執行不同重複的動作\\ndef outer(a, b):\\n    def inner(c, d):\\n        return c*d\\n    return inner(a, b) #將引數(a, b)作為inner的(c, d)\\n\\ndef Say(Sentance):\\n    def me(what):\\n        return 'I am a %s guy.'%what\\n    def sister(what):\\n        return 'I love my %s brother.'%what\\n    if sex == 'male':\\n        return me(Sentance)\\n    elif sex == 'female':\\n        return sister(Sentance)\\n\\nsex = input('What is your sexuality(male/female):')\\nabout = input('Say an adjective about HONG ZHIH:')\\n\\nprint('def1.', outer(4, 5))\\nprint('def2.', Say(about))\", \"#這是一種名為closure的凾式應用法, 用於希望在一個凾式內, 執行不同重複的動作\\ndef outer(a, b):\\n    def inner(c, d):\\n        return c*d\\n    return inner(a, b) #將引數(a, b)作為inner的(c, d)\\n\\ndef Say(Sentance):\\n    def me(what):\\n        return 'I am a %s guy.'%what\\n    def sister(what):\\n        return 'I have a %s brother.'%what\\n    if sex == 'male':\\n        return me(Sentance)\\n    elif sex == 'female':\\n        return sister(Sentance)\\n\\nsex = input('What is your sexuality(male/female):')\\nabout = input('Say an adjective about HONG ZHIH:')\\n\\nprint('def1.', outer(4, 5))\\nprint('def2.', Say(about))\", \"#lambda是一個陳述式\\n\\ndef my_cat(sounds, func1):\\n    for sound in sounds:\\n        print(func1(sound))\\n        \\nkitty = ['meow', 'mew', 'mow', 'meowwww']\\n\\nmy_cat(kitty, lambda sound: sound.capitalize()+'!!')\", \"#lambda是一個陳述式\\n\\ndef my_cat(sounds, func1):\\n    for sound in sounds:\\n        print(func1(sound))\\n        \\nkitty = ['meow', 'mew', 'mow', 'meowwww']\\n\\nmy_cat(kitty, lambda cat: cat.capitalize()+'!!') #lamd後的[sound]為此匿名凾式的引數\", \"#lambda是一個陳述式\\n\\ndef my_cat(sounds, func1):\\n    for sound in sounds:\\n        print(func1(sound))\\n        \\nkitty = ['meow', 'mew', 'mow', 'meowwww']\\n\\nmy_cat(kitty, lambda cat: cat.capitalize()+'!!') \\n#lamd後的[cat]為此匿名凾式的引數, 此函式用途為:將每個單字的字首大寫 & 在每個貓叫聲後加上「!!」\\n#而lambda的引數位置(cat), 放入的就是(kitty)這個字串串列\\n#此匿名函式的作用等同於:\\n# def lambda(cat):\\n#     return cat.capitalize()+'!!'\\n#ps:lambda作為python的保留字無法被另作他用!!!!!!\", \"lista = [code for code in range(1, 10) if code%2 == 1] #串列生成式, 形成1~9範圍內的奇數串列。\\n#第二個'code':指'range'迭代後存放值的參數;\\n#第三個'code':用以判斷迭代的'code'(第二個'code')是否為奇數;\\n#第一個'code':指會被填入指定串列(lista)當中的參數, 經過條件式判斷後被(第三個'code')賦予的值。\\n\\nvl = 'Hello'\\ndicta = {kw:vl[kw-1] for kw in range(1, 6) if kw%1 == 0} #字典生成式, 同樣可以加入條件式。\\n\\nseta = {number for number in range(1, 11)  if number%2 == 0} #集合生成式, 同樣可以加入條件式。\\n\\n#Tuple型的資料無法以生成式來生成\\ngenerator = (exp for exp in range(1, 201) if exp%100 == 0) #'產生器'生成式, 產生器是[一次性]的物件。\\npro_list = list(generator) #此為[首次]將產生器(producer)的值進行賦予。\\nfalse_list = list(generator) #因為已經將產生器(producer)的值賦予給[pro_list], 所以在這之後賦予的任何物件都為[空]。\\n\\nprint('串列生成式:', lista)\\nprint('字典生成式:', dicta)\\nprint('集合生成式:', seta)\\nprint('以產生器生成的串列:', pro_list)\\nprint('空串列:', false_list)\", \"def localVariable():\\n    animal = 'dog'\\n    print('local:', locals())\\n\\nanimal = 'cat'\\n\\nlocalVariable()\\nprint('global:', globals())\"], 'Out': {1: 2571820310955251121078572499345973889184192247144555265338209983884964726444827921322240519625124511856638500904630284343341744128000000000000000000000}, 'get_ipython': <bound method InteractiveShell.get_ipython of <ipykernel.zmqshell.ZMQInteractiveShell object at 0x000001D385E9B390>>, 'exit': <IPython.core.autocall.ZMQExitAutocall object at 0x000001D385EF5B38>, 'quit': <IPython.core.autocall.ZMQExitAutocall object at 0x000001D385EF5B38>, '_': 2571820310955251121078572499345973889184192247144555265338209983884964726444827921322240519625124511856638500904630284343341744128000000000000000000000, '__': '', '___': '', '_i': \"lista = [code for code in range(1, 10) if code%2 == 1] #串列生成式, 形成1~9範圍內的奇數串列。\\n#第二個'code':指'range'迭代後存放值的參數;\\n#第三個'code':用以判斷迭代的'code'(第二個'code')是否為奇數;\\n#第一個'code':指會被填入指定串列(lista)當中的參數, 經過條件式判斷後被(第三個'code')賦予的值。\\n\\nvl = 'Hello'\\ndicta = {kw:vl[kw-1] for kw in range(1, 6) if kw%1 == 0} #字典生成式, 同樣可以加入條件式。\\n\\nseta = {number for number in range(1, 11)  if number%2 == 0} #集合生成式, 同樣可以加入條件式。\\n\\n#Tuple型的資料無法以生成式來生成\\ngenerator = (exp for exp in range(1, 201) if exp%100 == 0) #'產生器'生成式, 產生器是[一次性]的物件。\\npro_list = list(generator) #此為[首次]將產生器(producer)的值進行賦予。\\nfalse_list = list(generator) #因為已經將產生器(producer)的值賦予給[pro_list], 所以在這之後賦予的任何物件都為[空]。\\n\\nprint('串列生成式:', lista)\\nprint('字典生成式:', dicta)\\nprint('集合生成式:', seta)\\nprint('以產生器生成的串列:', pro_list)\\nprint('空串列:', false_list)\", '_ii': \"#lambda是一個陳述式\\n\\ndef my_cat(sounds, func1):\\n    for sound in sounds:\\n        print(func1(sound))\\n        \\nkitty = ['meow', 'mew', 'mow', 'meowwww']\\n\\nmy_cat(kitty, lambda cat: cat.capitalize()+'!!') \\n#lamd後的[cat]為此匿名凾式的引數, 此函式用途為:將每個單字的字首大寫 & 在每個貓叫聲後加上「!!」\\n#而lambda的引數位置(cat), 放入的就是(kitty)這個字串串列\\n#此匿名函式的作用等同於:\\n# def lambda(cat):\\n#     return cat.capitalize()+'!!'\\n#ps:lambda作為python的保留字無法被另作他用!!!!!!\", '_iii': \"#lambda是一個陳述式\\n\\ndef my_cat(sounds, func1):\\n    for sound in sounds:\\n        print(func1(sound))\\n        \\nkitty = ['meow', 'mew', 'mow', 'meowwww']\\n\\nmy_cat(kitty, lambda cat: cat.capitalize()+'!!') #lamd後的[sound]為此匿名凾式的引數\", '_i1': 'def countdown(x): #此凾式終止點為:引數x被重複遞減至0為止\\n    if x == 0:\\n        return 1\\n    else:\\n        return x*countdown(x-1) # x!的計算\\n    \\ndef countup(x):\\n    if x == 100:\\n        return 1\\n    else:\\n        return x*countup(x+1)\\n\\ncountdown(5) # 5*4*3*2*(1) <<< 當(x-1 == 0), 便會直接回傳1, 因而導致遞迴終止 \\ncountup(10)', 'countdown': <function countdown at 0x000001D385FF7378>, 'countup': <function countup at 0x000001D385F21A60>, '_1': 2571820310955251121078572499345973889184192247144555265338209983884964726444827921322240519625124511856638500904630284343341744128000000000000000000000, '_i2': 'def countdown(x): #此凾式終止點為:引數x被重複遞減至0為止\\n    if x == 0:\\n        return 1\\n    else:\\n        return x*countdown(x-1) # x!的計算\\n    \\ndef countup(x):\\n    if x == 100:\\n        return 1\\n    else:\\n        return x*countup(x+1)\\n\\nprint(countdown(5)) # 5*4*3*2*(1) <<< 當(x-1 == 0), 便會直接回傳1, 因而導致遞迴終止 \\nprint(countup(10))', '_i3': 'def countdown(x): #此凾式終止點為:引數x被重複遞減至0為止\\n    if x == 0:\\n        return 1\\n    else:\\n        return x*countdown(x-1) # x!的計算\\n    \\ndef countup(x):\\n    if x == 10:\\n        return 1\\n    else:\\n        return x*countup(x+1)\\n\\nprint(countdown(5)) # 5*4*3*2*(1) <<< 當(x-1 == 0), 便會直接回傳1, 因而導致遞迴終止 \\nprint(countup(1))', '_i4': 'def outer(a, b):\\n    def inner(c, d):\\n        return c*d\\n    return inner(a, b) #將引數(a, b)作為inner的(c, d)\\n\\nprint(outer(4, 5))', 'outer': <function outer at 0x000001D385FE5C80>, '_i5': 'def outer(a, b):\\n    def inner(c, d):\\n        return c*d\\n    return inner(a, b) #將引數(a, b)作為inner的(c, d)\\n\\nprint(inner(4, 5))', '_i6': 'def outer(a, b):\\n    def inner(c, d):\\n        return c*d\\n    return inner(a, b) #將引數(a, b)作為inner的(c, d)\\n\\nprint(outer(4, 5))', '_i7': 'def outer(a, b):\\n    def inner(c, d):\\n        return c*d\\n    return inner(a, b)*a #將引數(a, b)作為inner的(c, d)\\n\\nprint(outer(4, 5))', '_i8': 'def outer(a, b):\\n    def inner(c, d):\\n        return c*d\\n    return inner(a, b) #將引數(a, b)作為inner的(c, d)\\n\\nprint(outer(4, 5))', '_i9': '#重複呼叫自身, 直至抵達設定的中斷點\\ndef countdown(x): #此凾式終止點為:引數x被重複遞減至0為止\\n    if x == 0:\\n        return 1\\n    else:\\n        return x*countdown(x-1) # x!的計算\\n    \\ndef countup(x):\\n    if x == 10:\\n        return 1\\n    else:\\n        return x*countup(x+1)\\n\\nprint(countdown(5)) # 5*4*3*2*(1) <<< 當(x-1 == 0), 便會直接回傳1, 因而導致遞迴終止 \\nprint(countup(1))', '_i10': \"def outer(a, b):\\n    def inner(c, d):\\n        return c*d\\n    return inner(a, b) #將引數(a, b)作為inner的(c, d)\\n\\ndef Say(Sentance):\\n    def me(what):\\n        return 'I am a %s guy.'%what\\n    return me(Sentance)\\n\\nprint(outer(4, 5))\\nprint('cute')\", 'Say': <function Say at 0x000001D385FE5E18>, '_i11': \"def outer(a, b):\\n    def inner(c, d):\\n        return c*d\\n    return inner(a, b) #將引數(a, b)作為inner的(c, d)\\n\\ndef Say(Sentance):\\n    def me(what):\\n        return 'I am a %s guy.'%what\\n    return me(Sentance)\\n\\nprint(outer(4, 5))\\nprint(Say('cute'))\", '_i12': \"def outer(a, b):\\n    def inner(c, d):\\n        return c*d\\n    return inner(a, b) #將引數(a, b)作為inner的(c, d)\\n\\ndef Say(Sentance):\\n    def me(what):\\n        return 'I am a %s guy.'%what\\n    return me(Sentance)\\n\\nprint('ex1.', outer(4, 5))\\nprint('ex2.', Say('cute'))\", '_i13': \"def outer(a, b):\\n    def inner(c, d):\\n        return c*d\\n    return inner(a, b) #將引數(a, b)作為inner的(c, d)\\n\\ndef Say(Sentance):\\n    def me(what):\\n        return 'I am a %s guy.'%what\\n    return me(Sentance)\\n\\nprint('def1.', outer(4, 5))\\nprint('def2.', Say('cute'))\", '_i14': \"#用於希望在一個凾式內, 執行不同重複的動作\\ndef outer(a, b):\\n    def inner(c, d):\\n        return c*d\\n    return inner(a, b) #將引數(a, b)作為inner的(c, d)\\n\\ndef Say(Sentance):\\n    def me(what):\\n        return 'I am a %s guy.'%what\\n    def sister(what):\\n        return 'I love my %s brother.'%what\\n    return sister(Sentance)\\n\\nprint('def1.', outer(4, 5))\\nprint('def2.', Say('cute'))\", '_i15': \"#用於希望在一個凾式內, 執行不同重複的動作\\ndef outer(a, b):\\n    def inner(c, d):\\n        return c*d\\n    return inner(a, b) #將引數(a, b)作為inner的(c, d)\\n\\ndef Say(Sentance):\\n    def me(what):\\n        return 'I am a %s guy.'%what\\n    def sister(what):\\n        return 'I love my %s brother.'%what\\n    if sex = male:\\n        return me(Sentance)\\n    elif sex = female:\\n        return sister(Sentance)\\n\\nsex = input('What is your sexuality(male/female):')\\nprint('def1.', outer(4, 5))\\nprint('def2.', Say('cute'))\", '_i16': \"#用於希望在一個凾式內, 執行不同重複的動作\\ndef outer(a, b):\\n    def inner(c, d):\\n        return c*d\\n    return inner(a, b) #將引數(a, b)作為inner的(c, d)\\n\\ndef Say(Sentance):\\n    def me(what):\\n        return 'I am a %s guy.'%what\\n    def sister(what):\\n        return 'I love my %s brother.'%what\\n    if sex == male:\\n        return me(Sentance)\\n    elif sex == female:\\n        return sister(Sentance)\\n\\nsex = input('What is your sexuality(male/female):')\\nprint('def1.', outer(4, 5))\\nprint('def2.', Say('cute'))\", 'sex': 'female', '_i17': \"#用於希望在一個凾式內, 執行不同重複的動作\\ndef outer(a, b):\\n    def inner(c, d):\\n        return c*d\\n    return inner(a, b) #將引數(a, b)作為inner的(c, d)\\n\\ndef Say(Sentance):\\n    def me(what):\\n        return 'I am a %s guy.'%what\\n    def sister(what):\\n        return 'I love my %s brother.'%what\\n    if sex == 'male':\\n        return me(Sentance)\\n    elif sex == 'female':\\n        return sister(Sentance)\\n\\nsex = input('What is your sexuality(male/female):')\\nprint('def1.', outer(4, 5))\\nprint('def2.', Say('cute'))\", '_i18': \"#用於希望在一個凾式內, 執行不同重複的動作\\ndef outer(a, b):\\n    def inner(c, d):\\n        return c*d\\n    return inner(a, b) #將引數(a, b)作為inner的(c, d)\\n\\ndef Say(Sentance):\\n    def me(what):\\n        return 'I am a %s guy.'%what\\n    def sister(what):\\n        return 'I love my %s brother.'%what\\n    if sex == 'male':\\n        return me(Sentance)\\n    elif sex == 'female':\\n        return sister(Sentance)\\n\\nsex = input('What is your sexuality(male/female):')\\nabout = input('Say an adjective about HONG ZHIH:')\\n\\nprint('def1.', outer(4, 5))\\nprint('def2.', Say(about))\", 'about': 'nice', '_i19': \"#這是一種名為closure的凾式應用法, 用於希望在一個凾式內, 執行不同重複的動作\\ndef outer(a, b):\\n    def inner(c, d):\\n        return c*d\\n    return inner(a, b) #將引數(a, b)作為inner的(c, d)\\n\\ndef Say(Sentance):\\n    def me(what):\\n        return 'I am a %s guy.'%what\\n    def sister(what):\\n        return 'I love my %s brother.'%what\\n    if sex == 'male':\\n        return me(Sentance)\\n    elif sex == 'female':\\n        return sister(Sentance)\\n\\nsex = input('What is your sexuality(male/female):')\\nabout = input('Say an adjective about HONG ZHIH:')\\n\\nprint('def1.', outer(4, 5))\\nprint('def2.', Say(about))\", '_i20': \"#這是一種名為closure的凾式應用法, 用於希望在一個凾式內, 執行不同重複的動作\\ndef outer(a, b):\\n    def inner(c, d):\\n        return c*d\\n    return inner(a, b) #將引數(a, b)作為inner的(c, d)\\n\\ndef Say(Sentance):\\n    def me(what):\\n        return 'I am a %s guy.'%what\\n    def sister(what):\\n        return 'I have a %s brother.'%what\\n    if sex == 'male':\\n        return me(Sentance)\\n    elif sex == 'female':\\n        return sister(Sentance)\\n\\nsex = input('What is your sexuality(male/female):')\\nabout = input('Say an adjective about HONG ZHIH:')\\n\\nprint('def1.', outer(4, 5))\\nprint('def2.', Say(about))\", '_i21': \"#lambda是一個陳述式\\n\\ndef my_cat(sounds, func1):\\n    for sound in sounds:\\n        print(func1(sound))\\n        \\nkitty = ['meow', 'mew', 'mow', 'meowwww']\\n\\nmy_cat(kitty, lambda sound: sound.capitalize()+'!!')\", 'my_cat': <function my_cat at 0x000001D386022400>, 'kitty': ['meow', 'mew', 'mow', 'meowwww'], '_i22': \"#lambda是一個陳述式\\n\\ndef my_cat(sounds, func1):\\n    for sound in sounds:\\n        print(func1(sound))\\n        \\nkitty = ['meow', 'mew', 'mow', 'meowwww']\\n\\nmy_cat(kitty, lambda cat: cat.capitalize()+'!!') #lamd後的[sound]為此匿名凾式的引數\", '_i23': \"#lambda是一個陳述式\\n\\ndef my_cat(sounds, func1):\\n    for sound in sounds:\\n        print(func1(sound))\\n        \\nkitty = ['meow', 'mew', 'mow', 'meowwww']\\n\\nmy_cat(kitty, lambda cat: cat.capitalize()+'!!') \\n#lamd後的[cat]為此匿名凾式的引數, 此函式用途為:將每個單字的字首大寫 & 在每個貓叫聲後加上「!!」\\n#而lambda的引數位置(cat), 放入的就是(kitty)這個字串串列\\n#此匿名函式的作用等同於:\\n# def lambda(cat):\\n#     return cat.capitalize()+'!!'\\n#ps:lambda作為python的保留字無法被另作他用!!!!!!\", '_i24': \"lista = [code for code in range(1, 10) if code%2 == 1] #串列生成式, 形成1~9範圍內的奇數串列。\\n#第二個'code':指'range'迭代後存放值的參數;\\n#第三個'code':用以判斷迭代的'code'(第二個'code')是否為奇數;\\n#第一個'code':指會被填入指定串列(lista)當中的參數, 經過條件式判斷後被(第三個'code')賦予的值。\\n\\nvl = 'Hello'\\ndicta = {kw:vl[kw-1] for kw in range(1, 6) if kw%1 == 0} #字典生成式, 同樣可以加入條件式。\\n\\nseta = {number for number in range(1, 11)  if number%2 == 0} #集合生成式, 同樣可以加入條件式。\\n\\n#Tuple型的資料無法以生成式來生成\\ngenerator = (exp for exp in range(1, 201) if exp%100 == 0) #'產生器'生成式, 產生器是[一次性]的物件。\\npro_list = list(generator) #此為[首次]將產生器(producer)的值進行賦予。\\nfalse_list = list(generator) #因為已經將產生器(producer)的值賦予給[pro_list], 所以在這之後賦予的任何物件都為[空]。\\n\\nprint('串列生成式:', lista)\\nprint('字典生成式:', dicta)\\nprint('集合生成式:', seta)\\nprint('以產生器生成的串列:', pro_list)\\nprint('空串列:', false_list)\", 'lista': [1, 3, 5, 7, 9], 'vl': 'Hello', 'dicta': {1: 'H', 2: 'e', 3: 'l', 4: 'l', 5: 'o'}, 'seta': {2, 4, 6, 8, 10}, 'generator': <generator object <genexpr> at 0x000001D3860BA678>, 'pro_list': [100, 200], 'false_list': [], '_i25': \"def localVariable():\\n    animal = 'dog'\\n    print('local:', locals())\\n\\nanimal = 'cat'\\n\\nlocalVariable()\\nprint('global:', globals())\", 'localVariable': <function localVariable at 0x000001D385FF7510>, 'animal': 'cat'}\n"
     ]
    }
   ],
   "source": [
    "def localVariable():\n",
    "    animal = 'dog'\n",
    "    print('local:', locals()) #locals:以字典的型式, 印出此函式中設定的區域變數與其內容('animal': 'dog')\n",
    "\n",
    "animal = 'cat' #設定在函式之外的變數, 此為全域變數, 函式內的區域變數在凾式執行結束後便會消失, 僅留存全域變數\n",
    "\n",
    "localVariable()\n",
    "print('global:', globals()) #印出全域命名空間的字典內容"
   ]
  },
  {
   "cell_type": "markdown",
   "metadata": {},
   "source": [
    "# 製作自己的例外Exception"
   ]
  },
  {
   "cell_type": "code",
   "execution_count": 5,
   "metadata": {},
   "outputs": [
    {
     "ename": "UppercaseException",
     "evalue": "TONY",
     "output_type": "error",
     "traceback": [
      "\u001b[1;31m---------------------------------------------------------------------------\u001b[0m",
      "\u001b[1;31mUppercaseException\u001b[0m                        Traceback (most recent call last)",
      "\u001b[1;32m<ipython-input-5-003d8246b4e2>\u001b[0m in \u001b[0;36m<module>\u001b[1;34m\u001b[0m\n\u001b[0;32m      6\u001b[0m \u001b[1;32mfor\u001b[0m \u001b[0m_\u001b[0m \u001b[1;32min\u001b[0m \u001b[0mwords\u001b[0m\u001b[1;33m:\u001b[0m\u001b[1;33m\u001b[0m\u001b[1;33m\u001b[0m\u001b[0m\n\u001b[0;32m      7\u001b[0m     \u001b[1;32mif\u001b[0m \u001b[0m_\u001b[0m\u001b[1;33m.\u001b[0m\u001b[0misupper\u001b[0m\u001b[1;33m(\u001b[0m\u001b[1;33m)\u001b[0m\u001b[1;33m:\u001b[0m\u001b[1;33m\u001b[0m\u001b[1;33m\u001b[0m\u001b[0m\n\u001b[1;32m----> 8\u001b[1;33m         \u001b[1;32mraise\u001b[0m \u001b[0mUppercaseException\u001b[0m\u001b[1;33m(\u001b[0m\u001b[0m_\u001b[0m\u001b[1;33m)\u001b[0m\u001b[1;33m\u001b[0m\u001b[1;33m\u001b[0m\u001b[0m\n\u001b[0m",
      "\u001b[1;31mUppercaseException\u001b[0m: TONY"
     ]
    }
   ],
   "source": [
    "class UppercaseException(Exception):\n",
    "    pass\n",
    "\n",
    "words = ['me', 'you', 'we', 'TONY']\n",
    "\n",
    "for _ in words:\n",
    "    if _.isupper():\n",
    "        raise UppercaseException(_)"
   ]
  },
  {
   "cell_type": "markdown",
   "metadata": {},
   "source": [
    "# 尋找出各模組(module)的路徑(path)之方法"
   ]
  },
  {
   "cell_type": "code",
   "execution_count": 2,
   "metadata": {},
   "outputs": [
    {
     "name": "stdout",
     "output_type": "stream",
     "text": [
      "Method1: <module 'sklearn' from 'C:\\\\Users\\\\accel\\\\Anaconda3\\\\envs\\\\tensorflow-gpu\\\\lib\\\\site-packages\\\\sklearn\\\\__init__.py'> \n",
      "\n",
      "Method2: ['C:\\\\Users\\\\accel\\\\Anaconda3\\\\envs\\\\tensorflow-gpu\\\\lib\\\\site-packages\\\\sklearn']\n",
      "Method2(plt): ['C:\\\\Users\\\\accel\\\\Anaconda3\\\\envs\\\\tensorflow-gpu\\\\lib\\\\site-packages\\\\matplotlib']\n"
     ]
    }
   ],
   "source": [
    "import sys\n",
    "import sklearn #假設今天我們想找出scikit-learn這個模組的存放位置\n",
    "import matplotlib\n",
    "\n",
    "#方法1:\n",
    "print('Method1:', sys.modules['sklearn'], '\\n')\n",
    "\n",
    "#方法2:\n",
    "print('Method2:', sklearn.__path__)\n",
    "print('Method2(plt):', matplotlib.__path__)"
   ]
  },
  {
   "cell_type": "markdown",
   "metadata": {},
   "source": [
    "# 引用自建函式"
   ]
  },
  {
   "cell_type": "code",
   "execution_count": 9,
   "metadata": {},
   "outputs": [
    {
     "name": "stdout",
     "output_type": "stream",
     "text": [
      "Todays weather: same as yesterday.\n",
      "The weather of 1 week: rainy\n",
      "The weather of 2 week: cloudy\n",
      "The weather of 3 week: foggy\n",
      "The weather of 4 week: sunny\n",
      "The weather of 5 week: windy\n",
      "The weather of 6 week: storm\n",
      "The weather of 7 week: snow\n"
     ]
    }
   ],
   "source": [
    "# daily, weekly 為自製凾式\n",
    "# 位於 tensorflow-gpu 環境中的 site-packages 目錄之下\n",
    "from self_functions import daily, weekly\n",
    "\n",
    "print('Todays weather:', daily.forecast())\n",
    "for week, weather in enumerate(weekly.forecast()):\n",
    "    print('The weather of', week+1, 'week:', weather)"
   ]
  },
  {
   "cell_type": "markdown",
   "metadata": {},
   "source": [
    "# lambda運算式的方便"
   ]
  },
  {
   "cell_type": "code",
   "execution_count": 19,
   "metadata": {},
   "outputs": [
    {
     "name": "stdout",
     "output_type": "stream",
     "text": [
      "lambda testing_YO(): HELLO!\n",
      "definition testing_YOL(): WORLD!\n",
      "New YO: Hello World!\n",
      "YO function is not defined\n",
      "New YOL: HELLO WORLD\n",
      "YOL funtion is not defined\n"
     ]
    }
   ],
   "source": [
    "# 用於直觀理解，減少敘述，直接定義凾式\n",
    "# 與def相同，可直接被覆蓋定義\n",
    "\n",
    "YO = lambda : \"HELLO!\"\n",
    "print('lambda testing_YO():', YO())\n",
    "\n",
    "def YOL():\n",
    "    return \"WORLD!\"\n",
    "print('definition testing_YOL():', YOL())\n",
    "\n",
    "# 新賦予 YO 一個值\n",
    "YO = 'Hello World!'\n",
    "print('New YO:', YO)\n",
    "\n",
    "# 若再次呼叫原本的 YO 函式...\n",
    "try:\n",
    "    print(YO())\n",
    "except:\n",
    "    print('YO function is not defined')\n",
    "\n",
    "# 新賦予 YOl 一個值\n",
    "YOL = 'HELLO WORLD'\n",
    "print('New YOL:', YOL)\n",
    "# 若再次呼叫原本的 YOL 函式...\n",
    "try:\n",
    "    print(YOL())\n",
    "except:\n",
    "    print('YOL funtion is not defined')"
   ]
  },
  {
   "cell_type": "markdown",
   "metadata": {},
   "source": [
    "# defaultdict 建立含有預設value的dictionary"
   ]
  },
  {
   "cell_type": "code",
   "execution_count": 41,
   "metadata": {},
   "outputs": [
    {
     "name": "stdout",
     "output_type": "stream",
     "text": [
      "dict of food_counter : defaultdict(<class 'int'>, {'apple': 3, 'beef': 2, 'bread': 2, 'water': 1})\n",
      "\n",
      "apple:3\n",
      "beef:2\n",
      "bread:2\n",
      "water:1\n",
      "dict_keys(['apple', 'beef', 'bread', 'water'])\n",
      "dict_values([3, 2, 2, 1])\n",
      "dict_items([('apple', 3), ('beef', 2), ('bread', 2), ('water', 1)])\n",
      "{'apple': 3, 'beef': 2, 'bread': 2, 'water': 1}\n"
     ]
    }
   ],
   "source": [
    "from collections import defaultdict as dfd\n",
    "\n",
    "# 練習實做:食材計數器\n",
    "\n",
    "food_counter = dfd(int) # 若dictionary中出現新的key，則value預設為0, dtype:integer\n",
    "\n",
    "foods = ['apple', 'beef', 'bread', 'beef', 'bread', 'water', 'apple', 'apple']\n",
    "for food in foods:\n",
    "    food_counter[food] += 1\n",
    "    \n",
    "print('dict of food_counter : {}\\n'.format(food_counter))\n",
    "\n",
    "for food, numb in food_counter.items():\n",
    "    print('{}:{}'.format(food, numb))\n",
    "\n",
    "food_storage = dict(food_counter) # 將資料轉型為 dict\n",
    "print(food_storage.keys())\n",
    "print(food_storage.values())\n",
    "print(food_storage.items())\n",
    "print(food_storage)"
   ]
  },
  {
   "cell_type": "markdown",
   "metadata": {},
   "source": [
    "# Class 的初次接觸"
   ]
  },
  {
   "cell_type": "code",
   "execution_count": 6,
   "metadata": {},
   "outputs": [
    {
     "name": "stdout",
     "output_type": "stream",
     "text": [
      "The farmer's name : Lannon\n",
      "6\n",
      "hello\n",
      "[1, 2, 3]\n"
     ]
    }
   ],
   "source": [
    "# 練習定義一個class\n",
    "class person(): # 定義類別為person，與int、str、list、dict同級\n",
    "    def __init__(self, name): # 定義此凾式是為了在每次建立此類別的物件時，都進行一次類別的初始化\n",
    "            self.name = name  # self:說明要被初始化的物件是(來自)要被創建的物件本身(self)\n",
    "                              # name:該類別的物件的一種\"屬性\"\n",
    "                              # 第四行表示:被輸入的引數\"name\"，會成為該物件本身(self)的屬性\n",
    "#____________________________________________\n",
    "\n",
    "# 嘗試使用上面定義的class來建立物件...\n",
    "farmer = person('Lannon') # 在此等同於...建立了一個值(value)為'Lannon'的物件(object)，並為這個物件貼上「farmer」這個標籤\n",
    "print(\"The farmer's name : {}\".format(farmer.name)) # 打印出這個農夫(標籤)的名字(屬性)\n",
    "\n",
    "#上面的範例就如同...\n",
    "AAA = int(6)\n",
    "BBB = str('hello')\n",
    "CCC = list([1, 2, 3])\n",
    "print('{}\\n{}\\n{}'.format(AAA, BBB, CCC))"
   ]
  },
  {
   "cell_type": "markdown",
   "metadata": {},
   "source": [
    "# Class 類別的繼承 - inherit 與覆寫 - Overwrite"
   ]
  },
  {
   "cell_type": "code",
   "execution_count": 27,
   "metadata": {},
   "outputs": [
    {
     "name": "stdout",
     "output_type": "stream",
     "text": [
      "I'm a car!\n",
      "I'm a car!\n",
      "I'm a car!\n",
      "My car is Lexus, and it is new!\n",
      "Hello! I am a new car. My name is Mirai\n",
      "My name is Mirai\n",
      "'Lexus' object has no attribute 'status'\n"
     ]
    }
   ],
   "source": [
    "# 定義父類別(parent、base class、superclass)\n",
    "class car():\n",
    "    def confess(self):\n",
    "        print(\"I'm a car!\")\n",
    "        \n",
    "# 定義 car class 的子類別(child、derived class、subclass)\n",
    "class Lexus(car): # 表示Lexus class 繼承自 car class，可使用car class 的全部函式\n",
    "    def __init__(self, name):\n",
    "        self.name = name\n",
    "\n",
    "# 定義 Lexus class的子類別(derived class)\n",
    "class new_car(Lexus):\n",
    "    def __init__(self, status, name):\n",
    "        self.status = status\n",
    "        self.name = 'My name is ' + name\n",
    "\n",
    "# 使用各自的類別創建object\n",
    "the_car = car()\n",
    "the_Lexus = Lexus('Lexus')\n",
    "the_status_of_car = new_car(status='new', name='Mirai')\n",
    "\n",
    "# 確認可使用的函式\n",
    "# from base class...\n",
    "the_car.confess()\n",
    "the_Lexus.confess()\n",
    "the_status_of_car.confess()\n",
    "\n",
    "# from the class of itself...\n",
    "print('My car is {}, and it is {}!'.format(the_Lexus.name, the_status_of_car.status))\n",
    "\n",
    "# 測試 new_car class 覆寫自 Lexus class 的 方法(method)-__init__ 中的屬性(property)-name ...\n",
    "print('Hello! I am a new car. {}'.format(the_status_of_car.name))\n",
    "\n",
    "# 經過覆寫後，測試derived class 能否使用 subclass 的 __init__ 中的 property ...\n",
    "try:\n",
    "    print(the_status_of_car.name)\n",
    "except:\n",
    "    print(\"'new_car' object has no attribute 'name'\")\n",
    "\n",
    "# 測試parent class 能否使用 derived class 的 __init__ ...\n",
    "try:\n",
    "    print('The car is {}~'.format(the_Lexus.status))\n",
    "except:\n",
    "    print(\"'Lexus' object has no attribute 'status'\")\n",
    "\n",
    "# SOLUSION:\n",
    "# 1. 子類別可繼承來自父類別所定義的函式。\n",
    "# 2. 子類別之下還可定義新的子類別 [子類別的子類別(derived class)]，同樣可繼承來自 base class 的凾式\n",
    "# 3. 子類別可使用自己的 __self__ 的 property\n",
    "# 4. 覆寫:子類別重新定義父類別的 property or method, 進而擁有與父類別不同的功能\n",
    "# 5. 定義在各自類別中的 __self__ 之下的 property，無法與其他任何 class 共用，除非在子類別中進行該 property 的覆寫(overwrite)"
   ]
  },
  {
   "cell_type": "markdown",
   "metadata": {},
   "source": [
    "# Class - 子類別與父類別的連動：super()"
   ]
  },
  {
   "cell_type": "code",
   "execution_count": null,
   "metadata": {},
   "outputs": [],
   "source": []
  }
 ],
 "metadata": {
  "kernelspec": {
   "display_name": "Python (tensorflow-gpu)",
   "language": "python",
   "name": "tensorflow-gpu"
  },
  "language_info": {
   "codemirror_mode": {
    "name": "ipython",
    "version": 3
   },
   "file_extension": ".py",
   "mimetype": "text/x-python",
   "name": "python",
   "nbconvert_exporter": "python",
   "pygments_lexer": "ipython3",
   "version": "3.6.8"
  }
 },
 "nbformat": 4,
 "nbformat_minor": 2
}
