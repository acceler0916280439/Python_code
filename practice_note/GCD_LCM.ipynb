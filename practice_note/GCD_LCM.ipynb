{
 "cells": [
  {
   "cell_type": "code",
   "execution_count": 3,
   "metadata": {},
   "outputs": [
    {
     "name": "stdout",
     "output_type": "stream",
     "text": [
      "Input the first number : 15\n",
      "Input the first number : 21\n",
      "The GCD of the numbers :  3\n",
      "The LCM of the numbers :  105\n"
     ]
    }
   ],
   "source": [
    "#最大公約數\n",
    "def GCD(x, y):\n",
    "    \n",
    "    if x > y:\n",
    "        smaller = y\n",
    "    else:\n",
    "        smaller = x\n",
    " \n",
    "    for i in range(1, smaller + 1): # 自1窮舉至較小值\n",
    "        if((x % i == 0) and (y % i == 0)):\n",
    "            gcd = i\n",
    "            \n",
    "    return gcd\n",
    "\n",
    "#最小公因數_窮舉法\n",
    "def LCM(x, y):\n",
    "    \n",
    "    if (x > y): \n",
    "        greater = x\n",
    "    else:\n",
    "        greater = y\n",
    "        \n",
    "    while(True):\n",
    "        if((greater % x == 0) & (greater % y == 0)):\n",
    "            lcm = greater\n",
    "            break\n",
    "            \n",
    "        greater += 1\n",
    "        \n",
    "    return lcm\n",
    "\n",
    "num1 = int(input(\"Input the first number : \"))\n",
    "num2 = int(input(\"Input the first number : \"))\n",
    "print('The GCD of the numbers : ', GCD(num1, num2))\n",
    "print('The LCM of the numbers : ', LCM(num1, num2))"
   ]
  },
  {
   "cell_type": "code",
   "execution_count": null,
   "metadata": {},
   "outputs": [],
   "source": []
  }
 ],
 "metadata": {
  "kernelspec": {
   "display_name": "Python (tensorflow-gpu)",
   "language": "python",
   "name": "tensorflow-gpu"
  },
  "language_info": {
   "codemirror_mode": {
    "name": "ipython",
    "version": 3
   },
   "file_extension": ".py",
   "mimetype": "text/x-python",
   "name": "python",
   "nbconvert_exporter": "python",
   "pygments_lexer": "ipython3",
   "version": "3.6.8"
  }
 },
 "nbformat": 4,
 "nbformat_minor": 2
}
