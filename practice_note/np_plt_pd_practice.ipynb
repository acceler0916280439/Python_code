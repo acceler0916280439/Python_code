{
 "cells": [
  {
   "cell_type": "code",
   "execution_count": 2,
   "metadata": {},
   "outputs": [],
   "source": [
    "import numpy as np\n",
    "import matplotlib.pyplot as plt\n",
    "import pandas as pd"
   ]
  },
  {
   "cell_type": "code",
   "execution_count": 3,
   "metadata": {
    "scrolled": true
   },
   "outputs": [
    {
     "name": "stdout",
     "output_type": "stream",
     "text": [
      "    Year Month  Passengers\n",
      "1   1949   JAN         114\n",
      "2   1949   FAB          84\n",
      "3   1949   MAR         103\n",
      "4   1949   APR         112\n",
      "5   1949   MAY         109\n",
      "6   1949   JUN         111\n",
      "7   1949   JUL          98\n",
      "8   1949   AUG         116\n",
      "9   1949   SEP          99\n",
      "10  1949   OCT         116\n",
      "11  1949   NOV         101\n",
      "12  1949   DEC         108\n",
      "0     JAN\n",
      "1     FAB\n",
      "2     MAR\n",
      "3     APR\n",
      "4     MAY\n",
      "5     JUN\n",
      "6     JUL\n",
      "7     AUG\n",
      "8     SEP\n",
      "9     OCT\n",
      "10    NOV\n",
      "11    DEC\n",
      "dtype: object\n"
     ]
    }
   ],
   "source": [
    "#定義資料\n",
    "month = ['JAN', 'FAB', 'MAR', 'APR', 'MAY','JUN', 'JUL', 'AUG', 'SEP', 'OCT', 'NOV', 'DEC']\n",
    "year = np.full((1, 12), 1949).ravel()\n",
    "passengers = np.random.randint(80, 130, (1, 12)).ravel()\n",
    "\n",
    "years = [year for year in range(1949, 1961)]\n",
    "Y_P = np.random.randint(1150, 1350, (1, 12)).ravel()\n",
    "\n",
    "#將資料轉為pandas series\n",
    "month = pd.Series(month)\n",
    "year = pd.Series(year)\n",
    "passengers = pd.Series(passengers)\n",
    "\n",
    "#建立pandas frame\n",
    "F_B = pd.DataFrame({'Year':year, 'Month':month, 'Passengers':passengers})\n",
    "F_B.index = range(1, len(year)+1)\n",
    "print(F_B)"
   ]
  },
  {
   "cell_type": "code",
   "execution_count": 61,
   "metadata": {},
   "outputs": [
    {
     "data": {
      "text/plain": [
       "<function matplotlib.pyplot.show(*args, **kw)>"
      ]
     },
     "execution_count": 61,
     "metadata": {},
     "output_type": "execute_result"
    },
    {
     "data": {
      "image/png": "[encoded data removed]",
      "text/plain": [
       "<Figure size 432x288 with 2 Axes>"
      ]
     },
     "metadata": {
      "needs_background": "light"
     },
     "output_type": "display_data"
    }
   ],
   "source": [
    "plt.figure()\n",
    "\n",
    "#歷年總載客數長條圖\n",
    "plt.subplot(2, 1, 1)\n",
    "plt.bar(years, Y_P, label = 'Y')\n",
    "\n",
    "#一年各個月分載客數分布折線圖\n",
    "plt.subplot(2, 1, 2)\n",
    "plt.plot(month, passengers, label = 'M', marker = 'o')\n",
    "\n",
    "plt.show"
   ]
  },
  {
   "cell_type": "code",
   "execution_count": null,
   "metadata": {},
   "outputs": [],
   "source": []
  }
 ],
 "metadata": {
  "kernelspec": {
   "display_name": "Python (tensorflow-gpu)",
   "language": "python",
   "name": "tensorflow-gpu"
  },
  "language_info": {
   "codemirror_mode": {
    "name": "ipython",
    "version": 3
   },
   "file_extension": ".py",
   "mimetype": "text/x-python",
   "name": "python",
   "nbconvert_exporter": "python",
   "pygments_lexer": "ipython3",
   "version": "3.6.8"
  }
 },
 "nbformat": 4,
 "nbformat_minor": 2
}
