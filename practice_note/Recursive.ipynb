{
 "cells": [
  {
   "cell_type": "code",
   "execution_count": 1,
   "metadata": {},
   "outputs": [
    {
     "name": "stdout",
     "output_type": "stream",
     "text": [
      "Input the number : 50\n",
      "The recursive :  [50, 25, 76, 38, 19, 58, 29, 88, 44, 22, 11, 34, 17, 52, 26, 13, 40, 20, 10, 5, 16, 8, 4, 2, 1]\n"
     ]
    }
   ],
   "source": [
    "#Recursive\n",
    "def RCS(x):\n",
    "    \n",
    "    numlist = [x]\n",
    "    \n",
    "    while x != 1:\n",
    "        \n",
    "        if x % 2 == 1: # 若為奇數\n",
    "            x = 3 * x + 1\n",
    "            numlist.append(x)\n",
    "        else: # 若為偶數\n",
    "            x = x // 2\n",
    "            numlist.append(x) # 在清單結尾添加新元素\n",
    "            \n",
    "    return numlist\n",
    "\n",
    "num = int(input('Input the number : '))\n",
    "print('The recursive : ', RCS(num))"
   ]
  },
  {
   "cell_type": "code",
   "execution_count": null,
   "metadata": {},
   "outputs": [],
   "source": []
  }
 ],
 "metadata": {
  "kernelspec": {
   "display_name": "Python (tensorflow-gpu)",
   "language": "python",
   "name": "tensorflow-gpu"
  },
  "language_info": {
   "codemirror_mode": {
    "name": "ipython",
    "version": 3
   },
   "file_extension": ".py",
   "mimetype": "text/x-python",
   "name": "python",
   "nbconvert_exporter": "python",
   "pygments_lexer": "ipython3",
   "version": "3.6.8"
  }
 },
 "nbformat": 4,
 "nbformat_minor": 2
}
